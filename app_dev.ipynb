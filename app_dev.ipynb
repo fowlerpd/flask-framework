{
 "cells": [
  {
   "cell_type": "code",
   "execution_count": 11,
   "metadata": {
    "collapsed": false
   },
   "outputs": [
    {
     "name": "stderr",
     "output_type": "stream",
     "text": [
      " * Running on http://127.0.0.1:33507/ (Press CTRL+C to quit)\n",
<<<<<<< HEAD
      "127.0.0.1 - - [02/Oct/2017 21:54:17] \"GET / HTTP/1.1\" 302 -\n",
      "127.0.0.1 - - [02/Oct/2017 21:54:17] \"GET /index HTTP/1.1\" 200 -\n",
      "127.0.0.1 - - [02/Oct/2017 21:54:28] \"POST /plot HTTP/1.1\" 400 -\n"
=======
      "127.0.0.1 - - [02/Oct/2017 21:07:53] \"GET / HTTP/1.1\" 302 -\n",
      "127.0.0.1 - - [02/Oct/2017 21:07:53] \"GET /index HTTP/1.1\" 200 -\n",
      "127.0.0.1 - - [02/Oct/2017 21:08:01] \"POST /plot HTTP/1.1\" 200 -\n"
>>>>>>> parent of 6f1ddc7... Working with df fucntion
     ]
    }
   ],
   "source": [
    "# %load app.py\n",
    "import requests\n",
    "import pandas as pd\n",
    "import simplejson as json\n",
    "from bokeh.plotting import figure,show \n",
    "from bokeh.palettes import Spectral11\n",
    "from bokeh.embed import components\n",
    "from bokeh.layouts import row, column\n",
    "from bokeh.models import ColumnDataSource, HoverTool\n",
    "from bokeh.models.widgets import PreText, Select\n",
    "from flask import Flask,render_template,request,redirect,session\n",
    "from flask import Flask, render_template, request, redirect\n",
    "\n",
    "app = Flask(__name__)\n",
    "\n",
    "app.vars={}\n",
    "\n",
    "\n",
    "@app.route('/')\n",
    "def main():\n",
    "  return redirect('/index')\n",
    "\n",
    "@app.route('/index', methods=['GET'])\n",
    "def index():\n",
    "    return render_template('index.html')\n",
    "    \n",
    "@app.route('/plot', methods=['POST'])\n",
    "def make_plot():\n",
<<<<<<< HEAD
    "    app.vars['ticker1'] = request.form['ticker1']\n",
    "    df = get_data(app.vars['ticker1'])\n",
    "    if request.form['2stocks'] == \"YES\":\n",
    "        app.vars['ticker2'] = request.form['ticker2']\n",
    "        df2 = get_data(app.vars['ticker2'])\n",
    "    \n",
    "    \n",
    "\n",
    "    p = figure(title='Stock prices for %s' % app.vars['ticker1'],\n",
    "            x_axis_label='date',\n",
    "            x_axis_type='datetime')\n",
    "        \n",
    "    if request.form.get('Close'):\n",
    "        p.line(x=df['Date'].values, y=df['Close'].values,line_width=2, legend='Close')\n",
    "    if request.form.get('Adj. Close'):\n",
    "        p.line(x=df['Date'].values, y=df['Adj. Close'].values,line_width=2, line_color=\"green\", legend='Adj. Close')\n",
    "    if request.form.get('Open'):\n",
    "        p.line(x=df['Date'].values, y=df['Open'].values,line_width=2, line_color=\"red\", legend='Open')\n",
    "    if request.form.get('Adj. Open'):\n",
    "        p.line(x=df['Date'].values, y=df['Adj. Open'].values,line_width=2, line_color=\"purple\", legend='Adj. Open')\n",
    "    script, div = components(p)\n",
    "    return render_template('plot.html', script=script, div=div)\n",
    "\n",
    "    \n",
    "\n",
    "\n",
    "    \n",
=======
    "#    if request.method == 'POST':\n",
    "        app.vars['ticker1'] = request.form['ticker1']\n",
    "        app.vars['ticker2'] = request.form['ticker2']\n",
    "        api_key = 'WtsnqndaKo-ZexTA5Jr2'\n",
    "        \n",
    "        api_url = 'https://www.quandl.com/api/v1/datasets/WIKI/%s.json?api_key=%s' % (app.vars['ticker1'], api_key)\n",
    "        session = requests.Session()\n",
    "        session.mount('http://', requests.adapters.HTTPAdapter(max_retries=3))\n",
    "        raw_data = session.get(api_url)\n",
    "        data = raw_data.json()\n",
    "        df = pd.DataFrame(data['data'], columns=data['column_names'])\n",
    "        df['Date'] = pd.to_datetime(df['Date'])\n",
    "\n",
    "        p = figure(title='Stock prices for %s' % app.vars['ticker1'],\n",
    "            x_axis_label='date',\n",
    "            x_axis_type='datetime')\n",
    "        \n",
    "        if request.form.get('Close'):\n",
    "            p.line(x=df['Date'].values, y=df['Close'].values,line_width=2, legend='Close')\n",
    "        if request.form.get('Adj. Close'):\n",
    "            p.line(x=df['Date'].values, y=df['Adj. Close'].values,line_width=2, line_color=\"green\", legend='Adj. Close')\n",
    "        if request.form.get('Open'):\n",
    "            p.line(x=df['Date'].values, y=df['Open'].values,line_width=2, line_color=\"red\", legend='Open')\n",
    "        if request.form.get('Adj. Open'):\n",
    "            p.line(x=df['Date'].values, y=df['Adj. Open'].values,line_width=2, line_color=\"purple\", legend='Adj. Open')\n",
    "        script, div = components(p)\n",
    "        return render_template('plot.html', script=script, div=div)\n",
    "\n",
>>>>>>> parent of 6f1ddc7... Working with df fucntion
    "if __name__ == '__main__':\n",
    "    app.run(port=33507)"
   ]
  },
  {
   "cell_type": "code",
   "execution_count": 6,
   "metadata": {
    "collapsed": false
   },
   "outputs": [
    {
     "ename": "NameError",
     "evalue": "name 'tickers' is not defined",
     "output_type": "error",
     "traceback": [
      "\u001b[0;31m---------------------------------------------------------------------------\u001b[0m",
      "\u001b[0;31mNameError\u001b[0m                                 Traceback (most recent call last)",
      "\u001b[0;32m<ipython-input-6-ecd3c90e36e4>\u001b[0m in \u001b[0;36m<module>\u001b[0;34m()\u001b[0m\n\u001b[0;32m----> 1\u001b[0;31m \u001b[0;32mprint\u001b[0m\u001b[0;34m(\u001b[0m\u001b[0mtickers\u001b[0m\u001b[0;34m)\u001b[0m\u001b[0;34m\u001b[0m\u001b[0m\n\u001b[0m",
      "\u001b[0;31mNameError\u001b[0m: name 'tickers' is not defined"
     ]
    }
   ],
   "source": [
    "print(tickers)"
   ]
  },
  {
   "cell_type": "code",
   "execution_count": null,
   "metadata": {
    "collapsed": true
   },
   "outputs": [],
   "source": []
  }
 ],
 "metadata": {
  "anaconda-cloud": {},
  "kernelspec": {
   "display_name": "Python [conda env:py27]",
   "language": "python",
   "name": "conda-env-py27-py"
  },
  "language_info": {
   "codemirror_mode": {
    "name": "ipython",
    "version": 2
   },
   "file_extension": ".py",
   "mimetype": "text/x-python",
   "name": "python",
   "nbconvert_exporter": "python",
   "pygments_lexer": "ipython2",
   "version": "2.7.12"
  }
 },
 "nbformat": 4,
 "nbformat_minor": 1
}
