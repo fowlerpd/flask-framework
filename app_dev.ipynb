{
 "cells": [
  {
   "cell_type": "code",
   "execution_count": 4,
   "metadata": {
    "collapsed": false
   },
   "outputs": [
    {
     "name": "stderr",
     "output_type": "stream",
     "text": [
      " * Running on http://127.0.0.1:33507/ (Press CTRL+C to quit)\n",
      "127.0.0.1 - - [05/Oct/2017 17:58:52] \"GET / HTTP/1.1\" 302 -\n",
      "127.0.0.1 - - [05/Oct/2017 17:58:52] \"GET /index HTTP/1.1\" 200 -\n",
      "127.0.0.1 - - [05/Oct/2017 17:59:01] \"POST /plot HTTP/1.1\" 200 -\n",
      "127.0.0.1 - - [05/Oct/2017 17:59:08] \"GET /index HTTP/1.1\" 200 -\n",
      "127.0.0.1 - - [05/Oct/2017 17:59:33] \"POST /plot HTTP/1.1\" 200 -\n",
      "127.0.0.1 - - [05/Oct/2017 17:59:39] \"GET /index HTTP/1.1\" 200 -\n",
      "127.0.0.1 - - [05/Oct/2017 18:00:13] \"POST /plot HTTP/1.1\" 200 -\n",
      "127.0.0.1 - - [05/Oct/2017 18:00:31] \"GET /index HTTP/1.1\" 200 -\n"
     ]
    }
   ],
   "source": [
    "import requests\n",
    "import pandas as pd\n",
    "import simplejson as json\n",
    "from bokeh.plotting import figure,show\n",
    "from bokeh.palettes import Spectral11\n",
    "from bokeh.embed import components\n",
    "from bokeh.layouts import row, column,gridplot\n",
    "from bokeh.models import ColumnDataSource, HoverTool, Legend\n",
    "from flask import Flask,render_template,request,redirect,session\n",
    "\n",
    "\n",
    "app = Flask(__name__)\n",
    "\n",
    "app.vars={}\n",
    "\n",
    "@app.route('/')\n",
    "def main():\n",
    "  return redirect('/index')\n",
    "\n",
    "@app.route('/index', methods=['GET'])\n",
    "def index():\n",
    "    return render_template('index.html')\n",
    "    \n",
    "@app.route('/plot', methods=['POST'])\n",
    "def plot(): \n",
    "    api_key = 'WtsnqndaKo-ZexTA5Jr2'\n",
    "    tools = \"pan,wheel_zoom,reset,hover,save\"\n",
    "    \n",
    "    #Function which builds a data frame from input ticker\n",
    "    def get_data(ticker):\n",
    "        api_url = 'https://www.quandl.com/api/v1/datasets/WIKI/%s.json?api_key=%s' % (ticker, api_key)\n",
    "        session = requests.Session()\n",
    "        session.mount('http://', requests.adapters.HTTPAdapter(max_retries=3))\n",
    "        raw_data = session.get(api_url)\n",
    "        data = raw_data.json()\n",
    "        df = pd.DataFrame(data['data'], columns=data['column_names'])\n",
    "        df['Date'] = pd.to_datetime(df['Date'])\n",
    "        return df\n",
    "    \n",
    "    #From the first ticker get the data and put it in a datafram\n",
    "    app.vars['ticker1'] = request.form['ticker1']\n",
    "    df = get_data(app.vars['ticker1'])\n",
    "    \n",
    "    #Check to see if we have custom dates\n",
    "    if request.form['yesno'] == 'YES':\n",
    "        custom_dates = True\n",
    "        start_date = pd.to_datetime(request.form['start'])\n",
    "        end_date = pd.to_datetime(request.form['end'])\n",
    "        if start_date < df['Date'].iloc[-1]:\n",
    "            start_date = df['Date'].iloc[-1]\n",
    "        if end_date > df['Date'].iloc[0]:\n",
    "            end_date = df['Date'].iloc[0]\n",
    "        df = df[(df['Date'] >= start_date) & (df['Date'] <= end_date)]\n",
    "    else:\n",
    "        custom_dates = False\n",
    "    \n",
    "\n",
    "    \n",
    "    if request.form['2stocks'] == \"YES\":\n",
    "        app.vars['ticker2'] = request.form['ticker2']\n",
    "        df2 = get_data(app.vars['ticker2'])\n",
    "        if custom_dates:\n",
    "            df2 = df2[(df2['Date'] >= start_date) & (df2['Date'] <= end_date)]\n",
    "        \n",
    "        s1 = figure(title='%s' % app.vars['ticker1'], plot_width = 420, plot_height = 220, tools = tools,\n",
    "            x_axis_label='date',\n",
    "            x_axis_type='datetime')\n",
    "        s2 = figure(title='%s' % app.vars['ticker2'], plot_width = 420, plot_height = 220, tools = tools,\n",
    "            x_axis_label='date',\n",
    "            x_axis_type='datetime')\n",
    "        s3 = figure(title='%s vs %s' % (app.vars['ticker1'],app.vars['ticker2']), plot_width = 900, plot_height = 200, tools = tools,\n",
    "            x_axis_label='date',\n",
    "            x_axis_type='datetime')\n",
    "        \n",
    "        s1.line(x=df['Date'].values, y=df['Close'].values,line_width=2, legend='Close')\n",
    "        s2.line(x=df2['Date'].values, y=df2['Close'].values,line_width=2, legend='Close')\n",
    "        if request.form.get('Close'):\n",
    "            s3.line(x=df['Date'].values, y=df['Close'].values,line_width=2,line_color=\"RoyalBlue\", legend='Close %s' %app.vars['ticker1'])\n",
    "            s3.line(x=df2['Date'].values, y=df2['Close'].values,line_width=2,line_color=\"SkyBlue\", legend='Close %s'%app.vars['ticker2'])\n",
    "        if request.form.get('Adjusted close'):\n",
    "            s3.line(x=df['Date'].values, y=df['Adj. Close'].values,line_width=2, line_color=\"Orange\", legend='Adj. Close %s' %app.vars['ticker1'])\n",
    "            s3.line(x=df2['Date'].values, y=df2['Adj. Close'].values,line_width=2, line_color=\"OrangeRed\", legend='Adj. Close %s' %app.vars['ticker2'])\n",
    "            \n",
    "        if request.form.get('Open'):\n",
    "            s3.line(x=df['Date'].values, y=df['Open'].values,line_width=2, line_color=\"Navy\", legend='Open %s'%app.vars['ticker1'])\n",
    "            s3.line(x=df2['Date'].values, y=df2['Open'].values,line_width=2, line_color=\"Purple\", legend='Open %s' %app.vars['ticker2'])\n",
    " \n",
    "        if request.form.get('Adjusted open'):\n",
    "            s3.line(x=df['Date'].values, y=df['Adj. Open'].values,line_width=2, line_color=\"Teal\", legend='Adj. Open %s'%app.vars['ticker1'])\n",
    "            s3.line(x=df2['Date'].values, y=df2['Adj. Open'].values,line_width=2, line_color=\"Turquoise\", legend='Adj. Open %s' %app.vars['ticker2'])\n",
    "        \n",
    "        s1.legend.location = 'top_left'\n",
    "        s2.legend.location = 'top_left'\n",
    "        s3.legend.location = 'top_left'\n",
    "        hover1 = s1.select_one(HoverTool)\n",
    "        hover1.tooltips = [(\"Price\", \"$y{0.2f}\")]\n",
    "        hover2 = s2.select_one(HoverTool)\n",
    "        hover2.tooltips = [(\"Price\", \"$y{0.2f}\")]\n",
    "        hover3 = s3.select_one(HoverTool)\n",
    "        hover3.tooltips = [(\"Price\", \"$y{0.2f}\")]\n",
    "        p = gridplot([[s1, s2], [s3]])\n",
    "        \n",
    "        script, div = components(p)\n",
    "        return render_template('plot.html', script=script, div=div)\n",
    "    \n",
    "    else:\n",
    "    \n",
    "        p = figure(title='%s' % app.vars['ticker1'], plot_width = 900, plot_height = 200, tools = tools,\n",
    "                x_axis_label='Date',\n",
    "                x_axis_type='datetime')\n",
    "\n",
    "        if request.form.get('Close'):\n",
    "            p.line(x=df['Date'].values, y=df['Close'].values,line_width=2, legend='Close')\n",
    "        if request.form.get('Adjusted close'):\n",
    "            p.line(x=df['Date'].values, y=df['Adj. Close'].values,line_width=2, line_color=\"green\", legend='Adj. Close')\n",
    "        if request.form.get('Open'):\n",
    "            p.line(x=df['Date'].values, y=df['Open'].values,line_width=2, line_color=\"red\", legend='Open')\n",
    "        if request.form.get('Adjusted open'): \n",
    "            p.line(x=df['Date'].values, y=df['Adj. Open'].values,line_width=2, line_color=\"purple\", legend='Adj. Open')\n",
    "        \n",
    "        hover = p.select_one(HoverTool)\n",
    "        hover.tooltips = [(\"Price\", \"$y{0.2f}\")]\n",
    "        p.legend.location = \"top_left\"   \n",
    "        script, div = components(p)\n",
    "        return render_template('plot.html', script=script, div=div)\n",
    "\n",
    "\n",
    "\n",
    "    \n",
    "if __name__ == '__main__':\n",
    "    app.run(port=33507)"
   ]
  },
  {
   "cell_type": "code",
   "execution_count": null,
   "metadata": {
    "collapsed": true
   },
   "outputs": [],
   "source": [
    "api_key = 'WtsnqndaKo-ZexTA5Jr2'\n",
    "tools = \"pan,wheel_zoom,reset,hover,save\"\n",
    "def get_data(ticker):\n",
    "    api_url = 'https://www.quandl.com/api/v1/datasets/WIKI/%s.json?api_key=%s' % (ticker, api_key)\n",
    "    session = requests.Session()\n",
    "    session.mount('http://', requests.adapters.HTTPAdapter(max_retries=3))\n",
    "    raw_data = session.get(api_url)\n",
    "    data = raw_data.json()\n",
    "    df = pd.DataFrame(data['data'], columns=data['column_names'])\n",
    "    df['Date'] = pd.to_datetime(df['Date'])\n",
    "    return df"
   ]
  },
  {
   "cell_type": "code",
   "execution_count": null,
   "metadata": {
    "collapsed": false
   },
   "outputs": [],
   "source": [
    "df = get_data('AAPL')"
   ]
  },
  {
   "cell_type": "code",
   "execution_count": null,
   "metadata": {
    "collapsed": false
   },
   "outputs": [],
   "source": [
    "df.head()"
   ]
  },
  {
   "cell_type": "code",
   "execution_count": null,
   "metadata": {
    "collapsed": false
   },
   "outputs": [],
   "source": [
    "start_date = df.iloc[3,0]\n",
    "end_date = df['Date'][0]\n",
    "\n",
    "if start_date < df['Date'].iloc[-1]:\n",
    "    start_date = df['Date'].iloc[-1]\n",
    "\n",
    "if end_date > df['Date'].iloc[0]:\n",
    "    end_date = df['Date'].iloc[0]\n",
    "\n",
    "print(start_date)\n",
    "print(end_date)\n",
    "df = df[(df['Date'] >= start_date) & (df['Date'] <= end_date)] \n",
    "df.head()\n",
    "\n",
    "#print(df.iloc[0,0])"
   ]
  },
  {
   "cell_type": "code",
   "execution_count": null,
   "metadata": {
    "collapsed": false
   },
   "outputs": [],
   "source": [
    "print(df['Date'].iloc[0])\n",
    "\n",
    "#print(df.iloc[-1:,0])"
   ]
  },
  {
   "cell_type": "code",
   "execution_count": null,
   "metadata": {
    "collapsed": false
   },
   "outputs": [],
   "source": [
    "a = True\n",
    "if a:\n",
    "    print(a)\n"
   ]
  },
  {
   "cell_type": "code",
   "execution_count": null,
   "metadata": {
    "collapsed": true
   },
   "outputs": [],
   "source": []
  }
 ],
 "metadata": {
  "anaconda-cloud": {},
  "kernelspec": {
   "display_name": "Python [conda env:py27]",
   "language": "python",
   "name": "conda-env-py27-py"
  },
  "language_info": {
   "codemirror_mode": {
    "name": "ipython",
    "version": 2
   },
   "file_extension": ".py",
   "mimetype": "text/x-python",
   "name": "python",
   "nbconvert_exporter": "python",
   "pygments_lexer": "ipython2",
   "version": "2.7.12"
  }
 },
 "nbformat": 4,
 "nbformat_minor": 1
}
